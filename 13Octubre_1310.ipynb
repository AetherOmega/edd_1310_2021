{
  "nbformat": 4,
  "nbformat_minor": 0,
  "metadata": {
    "colab": {
      "name": "13Octubre_1310.ipynb",
      "provenance": [],
      "authorship_tag": "ABX9TyPoIXzDgN9KSn/CGZQByjpe",
      "include_colab_link": true
    },
    "kernelspec": {
      "name": "python3",
      "display_name": "Python 3"
    }
  },
  "cells": [
    {
      "cell_type": "markdown",
      "metadata": {
        "id": "view-in-github",
        "colab_type": "text"
      },
      "source": [
        "<a href=\"https://colab.research.google.com/github/AetherOmega/edd_1310_2021/blob/master/13Octubre_1310.ipynb\" target=\"_parent\"><img src=\"https://colab.research.google.com/assets/colab-badge.svg\" alt=\"Open In Colab\"/></a>"
      ]
    },
    {
      "cell_type": "code",
      "metadata": {
        "id": "Mgw7XSceE1uR"
      },
      "source": [
        ""
      ],
      "execution_count": null,
      "outputs": []
    },
    {
      "cell_type": "code",
      "metadata": {
        "id": "0iplsZnIsYBw"
      },
      "source": [
        "alumno = { \n",
        "          \"num_cta\" : 303030303 ,\n",
        "          \"carrera\" : \"ICO\",\n",
        "          \"promedio\" : 9.8,\n",
        "          \"materias\" :[\"EDD\",\"CyP\",\"Calidad\",\"Emprendimiento\"],\n",
        "          \"direccion\" : { \n",
        "                            \"calle\":\"rancho seco\",\n",
        "                            \"numero\" : 23 ,\n",
        "                            \"delegacion\" : \"Neza\",\n",
        "                            \"estado\" : {\n",
        "                                        \"id\" : 15 ,\n",
        "                                        \"nombre\" : \"Estado de Máxico\" ,\n",
        "                                        \"nombre_corto\" : \"EdoMex\"\n",
        "                                        } ,\n",
        "                            \"CP\":57170\n",
        "\n",
        "                        } \n",
        "          }\n",
        "print (alumno)\n",
        "alumno['carrera'] = \"Ingenieria en Computación\" #diccionarios mutables\n",
        "print (alumno)\n",
        "alumno['nombre_completo']={'primer':\"Juan\",\n",
        "                           'segundo':\"Pedro\",\n",
        "                           'materno':\"Pérez\",\n",
        "                           'paterno':\"Gomez\"\n",
        "                           }\n",
        "                           \n",
        "alumno['semestre']=3\n",
        "print(alumno)\n",
        "\n",
        "print(f\"{alumno['nombre_completo']['primer']} {alumno['nombre_completo']['segundo']}\")"
      ],
      "execution_count": null,
      "outputs": []
    },
    {
      "cell_type": "code",
      "metadata": {
        "id": "SA44LHv8wcfm"
      },
      "source": [
        "#keys(),values() ,items()\n",
        "#keys regresa las variables en un diccionario\n",
        "llaves = alumno.keys()\n",
        "print(llaves)\n",
        "for llave in llaves:\n",
        "  print(llave.upper())\n",
        "\n",
        "valores=alumno.values()\n",
        "for val in valores:\n",
        "  print(val)\n",
        "\n",
        "pares=alumno.items()\n",
        "print(pares)\n",
        "for elem in pares:\n",
        "  print(f\"el campo{elem[0]} tiene el avlor {elem[1]}\")"
      ],
      "execution_count": null,
      "outputs": []
    },
    {
      "cell_type": "code",
      "metadata": {
        "id": "_bjqyydq073b"
      },
      "source": [
        "#Concatenar dicionarios\n",
        "computadora = {\"procesador\":\"Intel i7\",\"ram\":\"Kingston 128GB\"}\n",
        "otros = {\"monitor\":\"LG 49\\\"\",\"hd\":\"Toshiba 1TB\"}\n",
        "computadora.update(otros)#update anexa los diccionarios a computadora (en este caso)\n",
        "print(computadora)"
      ],
      "execution_count": null,
      "outputs": []
    },
    {
      "cell_type": "markdown",
      "metadata": {
        "id": "pPGnJ2P82qiR"
      },
      "source": [
        "#Funciones (modularidad)\n",
        "- son unidades de codigo reutilizable\n",
        "- es un mecanismo\n",
        "- una funcion de 0 a n paranetros de entrada \n",
        "- tiene una sola salida (return) de cualquier tipo de dato\n",
        "- solo puedes hacer dos cosas:\n",
        "  - definirla\n",
        "  - llamarla\n",
        "- se definen con la palabra reservada 'def'"
      ]
    },
    {
      "cell_type": "code",
      "metadata": {
        "id": "kx57LMIg3xJH"
      },
      "source": [
        "#definir\n",
        "def sumar(x,y):\n",
        "  resultado = x + y\n",
        "  return resultado\n",
        "\n",
        "def saludar( nombre):\n",
        "  print(f\"Hola{nombre}, ¿Cómo estas?\")\n",
        "  \n",
        "\n",
        "#llamar\n",
        "\n",
        "def multiplicar(valor,veces):\n",
        "  if valor != None:\n",
        "    c = valor * veces\n",
        "  else:\n",
        "    c = \"Operacion no valida\"\n",
        "  return c\n",
        "\n",
        "def operacion(a,b,c):\n",
        "  res = a+(b/c)\n",
        "  return res\n",
        "\n",
        "\n",
        "print(sumar(10,5))\n",
        "print(sumar(2,6))\n",
        "c=sumar(3,7)\n",
        "print(c)\n",
        "saludar(\"Jesus\")\n",
        "print(saludar('jose'))\n",
        "#procesar none\n",
        "print (multiplicar(5,6))\n",
        "print (multiplicar(None,6))\n",
        "\n",
        "print(operacion(2,9,3))\n",
        "print(operacion(2,3,9))\n",
        "print(operacion(a=2,c=3,b=9))"
      ],
      "execution_count": null,
      "outputs": []
    },
    {
      "cell_type": "code",
      "metadata": {
        "id": "d8Wi1P8j-i6w"
      },
      "source": [
        "#valores por defecto\n",
        "def comanda(primer,fuerte,postre = \"Galleta\"):\n",
        "  print(f\"De entrada pidio:{primer}\")\n",
        "  print(f\"De plato fuerte pidio:{fuerte}\")\n",
        "  print(f\"De postre pidio:{postre}\")\n",
        "\n",
        "#argumentos posicionales con tuplas *\n",
        "def comandados(*opciones):\n",
        "  print (opciones)\n",
        "  print(f\"De entrada pidio:{opciones[0]}\")\n",
        "  print(f\"De plato fuerte pidio:{opciones[1]}\")\n",
        "  print(f\"De postre pidio:{opciones[2]}\")\n",
        "  print(\"\\nIndicaciones extra:\")\n",
        "  for ind in opciones[3::]:\n",
        "    print(f\"\\t {ind}\")\n",
        "\n",
        "comanda (\"sopa\",\"tortas de papa\",\"gelatina de limon\")\n",
        "comanda (\"sopa\",\"tortas de papa\")\n",
        "comandados (\"sopa\",\"tortas de papa\",\"gelatina de limon\",\n",
        "            \"las tortas bien doradas\", \"traer dos limones\",\"agua con hielo\")"
      ],
      "execution_count": null,
      "outputs": []
    },
    {
      "cell_type": "code",
      "metadata": {
        "id": "wkSB6lFZB5Fu"
      },
      "source": [
        "#argumentos posicionales con diccionarios **\n",
        "def comanda_3 (**opciones):\n",
        "  print(opciones)\n",
        "  for op in opciones.items():\n",
        "    print(f\"{op[0]} -> {op[1]}\")\n",
        "\n",
        "comanda_3 (primer=\"sopa\",fuerte=\"tortas de papa\",postre=\"gelatina de limon\",\n",
        "            extra1=\"las tortas bien doradas\",extra2=\"traer dos limones\",extra3=\"agua con hielo\")"
      ],
      "execution_count": null,
      "outputs": []
    }
  ]
}
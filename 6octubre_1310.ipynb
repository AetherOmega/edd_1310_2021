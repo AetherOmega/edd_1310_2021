{
  "nbformat": 4,
  "nbformat_minor": 0,
  "metadata": {
    "colab": {
      "name": "6octubre_1310.ipynb",
      "provenance": [],
      "authorship_tag": "ABX9TyPNpe0Qlg16IqpdnomlmaoO",
      "include_colab_link": true
    },
    "kernelspec": {
      "name": "python3",
      "display_name": "Python 3"
    }
  },
  "cells": [
    {
      "cell_type": "markdown",
      "metadata": {
        "id": "view-in-github",
        "colab_type": "text"
      },
      "source": [
        "<a href=\"https://colab.research.google.com/github/AetherOmega/edd_1310_2021/blob/master/6octubre_1310.ipynb\" target=\"_parent\"><img src=\"https://colab.research.google.com/assets/colab-badge.svg\" alt=\"Open In Colab\"/></a>"
      ]
    },
    {
      "cell_type": "code",
      "metadata": {
        "id": "2f3jgZanq18s"
      },
      "source": [
        "# String continuacion \n",
        "cosas = [\"Cuaderno\", 2, 3.1416, True, False, [\"Rojo\", \"Azul\"]]\n",
        "print(cosas)\n",
        "numeros_txt = \"1, 2, 3, 4,   5  ,35   ,15 , 12\"\n",
        "print(numeros_txt)\n",
        "numeros_txt = numeros_txt.lstrip().split(',')\n",
        "print(numeros_txt)\n",
        "\n",
        " \n",
        "for j in range(len(numeros_txt)):\n",
        "   numeros_txt[ j ] = int(numeros_txt[j].strip())   \n",
        "\n",
        "print(numeros_txt)\n",
        "\n",
        "\n",
        "\n",
        "# Funcion range()\n",
        "\n",
        "#range(inncio, stop , incremento)\n",
        "\n",
        "print(range(1,10,2))\n",
        "rango = range(1,10,2)\n",
        "\n",
        "for x in rango:\n",
        "  print(x)\n",
        "\n",
        "rango = range(10)\n",
        "for x in rango:\n",
        "  print(x)"
      ],
      "execution_count": null,
      "outputs": []
    },
    {
      "cell_type": "markdown",
      "metadata": {
        "id": "LTbaWgBbxEJa"
      },
      "source": [
        "# Listas\n",
        "- Mutables\n",
        "- Declaran con [ ]\n",
        "- Selector [ int ]\n",
        "- Pueden ser de cualquier tipo y mezclado\n",
        "\n",
        "# Tuplas\n",
        "- NO mutables\n",
        "- Declaran con ( )\n",
        "- Selectos [ int ]\n",
        "\n",
        "\n",
        "# Diccionarios\n",
        "- Son mutables\n",
        "- Son conjunto de pares llave:valor\n",
        "- Equivalentes a los Objetos JSON de JavaScript\n",
        "\n",
        "\n",
        "# Conjuntos\n",
        "- Representasion de la teoria de conjuntos\n"
      ]
    },
    {
      "cell_type": "code",
      "metadata": {
        "id": "sgZyXTW9yMlh"
      },
      "source": [
        "# Listas\n",
        "frutas = [ \"Pera\", \"Manzana\", \"Fresa\", \"Kiwi\", \"Naranja\"]\n",
        "print(frutas)\n",
        "frutas[2]=\"Platano\"\n",
        "print(frutas)\n",
        "# Agregar a lista\n",
        "frutas.append(\"Aguacate\")\n",
        "print(frutas)\n",
        "frutas.insert(2,\"Sandia\")\n",
        "print(frutas)\n",
        "\n",
        "# Cooncatenar listas\n",
        "fecha = [\"06\",\"10\",\"2020\"] #06/10/2020\n",
        "print(fecha)\n",
        "fecha_string = \"/\".join(fecha)\n",
        "print(fecha_string)\n"
      ],
      "execution_count": null,
      "outputs": []
    },
    {
      "cell_type": "code",
      "metadata": {
        "id": "c8G9IyFp3R9F"
      },
      "source": [
        "# Eliminar elementos\n",
        "cosas = [\"Cuaderno\", 2, 3.1416, True, False, [\"Rojo\", \"Azul\"]]\n",
        "print(cosas)\n",
        "print(cosas)\n",
        "cosas.append(\"Libro\")\n",
        "cosas.append(\"Lapiz\")\n",
        "print(cosas)\n",
        "algo = cosas.pop()\n",
        "print(cosas)\n",
        "\n",
        "algo = cosas.pop(2)\n",
        "print(cosas)\n",
        "print(algo)\n",
        "cosas.remove(2)\n",
        "print(cosas)\n",
        "\n",
        "#Vaciar la lista\n",
        "\n",
        "cosas.clear()\n",
        "print(cosas)\n",
        "\n",
        "#Ordenar\n",
        "print(frutas)\n",
        "frutas.sort()\n",
        "print(frutas)\n",
        "\n"
      ],
      "execution_count": null,
      "outputs": []
    },
    {
      "cell_type": "code",
      "metadata": {
        "id": "6LGJQj5Z7JHU"
      },
      "source": [
        "# Slicing \n",
        "\n",
        "cosas = [\"Cuaderno\", 2, 3.1416, True, False, [\"Rojo\", \"Azul\"]]\n",
        "print(cosas[3:5:1])\n",
        "print(cosas)\n",
        "print(cosas[0][3:5:1])\n",
        "\n",
        "numeros = [0,1,2,3,4,5,6,7,8,9,10,11,12,13,14,15]\n",
        "print(numeros[8:12])\n",
        "\n",
        "# Sustituir rebanadas -2,-2 -> [0,1,2,3,4,5,6,7,8,9,10,11,12,13,14,15]\n",
        "\n",
        "numeros[8:13:] =[-2.-2]\n",
        "print(numeros)\n",
        "\n",
        "# Preguntar existencia\n",
        "print( 100 in numeros)"
      ],
      "execution_count": null,
      "outputs": []
    },
    {
      "cell_type": "markdown",
      "metadata": {
        "id": "9WasDFvM-mRi"
      },
      "source": [
        "# Listas multi dimension \n",
        "\n",
        "Listas dentro de listas "
      ]
    },
    {
      "cell_type": "code",
      "metadata": {
        "id": "8CSD8TTj-t-K"
      },
      "source": [
        "computadoras =[\"HP\",\"Mac Book\",\"Mate Book\", \"Lenovo Legion\"]\n",
        "oss = [\"Windows 10\", \"Linux\", \"Android\", \"ios\"]\n",
        "\n",
        "computo = [computadoras , oss ]\n",
        "print(computo[0])\n",
        "print(computo[1])\n",
        "print(computo[0][2])\n",
        "print(computo[0][2][0:5])\n",
        "print(computo[0][3][5: :-1])\n",
        "print(computo[0][3][-8: :-1])\n",
        "print(\"Linux\" in computo)\n",
        "dbms = [ [\"Mysql\",\"Open Sourse\", False],[\"MS SQL Server\",\"de paga \", True] ]\n",
        "computo.append(dbms)\n",
        "print(computo)\n",
        "print(computo[2][0][0])\n",
        "print(computo[2][0][0])"
      ],
      "execution_count": null,
      "outputs": []
    },
    {
      "cell_type": "code",
      "metadata": {
        "id": "88rq6psvz05x"
      },
      "source": [
        "help(list)"
      ],
      "execution_count": null,
      "outputs": []
    },
    {
      "cell_type": "markdown",
      "metadata": {
        "id": "uDA6uRIp8cXI"
      },
      "source": [
        ""
      ]
    }
  ]
}
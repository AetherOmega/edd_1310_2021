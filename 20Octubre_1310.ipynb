{
  "nbformat": 4,
  "nbformat_minor": 0,
  "metadata": {
    "colab": {
      "name": "20Octubre_1310.ipynb",
      "provenance": [],
      "toc_visible": true,
      "authorship_tag": "ABX9TyO6MfAWubrZLsVyFgYimKgt",
      "include_colab_link": true
    },
    "kernelspec": {
      "name": "python3",
      "display_name": "Python 3"
    }
  },
  "cells": [
    {
      "cell_type": "markdown",
      "metadata": {
        "id": "view-in-github",
        "colab_type": "text"
      },
      "source": [
        "<a href=\"https://colab.research.google.com/github/AetherOmega/edd_1310_2021/blob/master/20Octubre_1310.ipynb\" target=\"_parent\"><img src=\"https://colab.research.google.com/assets/colab-badge.svg\" alt=\"Open In Colab\"/></a>"
      ]
    },
    {
      "cell_type": "code",
      "metadata": {
        "id": "mZAz6Nzzvzd7"
      },
      "source": [
        "archivo = open('numeros.txt','rt')\n",
        "for linea in archivo.readlines():\n",
        "  for numero in linea.split(','):\n",
        "    print(int(numero.strip()))\n"
      ],
      "execution_count": null,
      "outputs": []
    },
    {
      "cell_type": "markdown",
      "metadata": {
        "id": "vAlTEzfO2mvr"
      },
      "source": [
        "# For en Python\n",
        "Existen 2 versiones del for\n",
        "- range\n",
        "- in iterator"
      ]
    },
    {
      "cell_type": "code",
      "metadata": {
        "id": "fdIyvRj221Bl",
        "outputId": "7afb82a1-7eb0-4bfc-da9a-3909274f1d70",
        "colab": {
          "base_uri": "https://localhost:8080/",
          "height": 170
        }
      },
      "source": [
        "r = range(0, 10, 2)\n",
        "for x in r:\n",
        "  print(x)\n",
        "\n",
        "colores = ['rojo', 'rosa', 'azul', 'fucsia']\n",
        "for indice in range(0, len(colores), 1):\n",
        "  colores[indice] = colores[indice].upper()\n",
        "\n",
        "for color in colores:\n",
        "  print(color)\n"
      ],
      "execution_count": 2,
      "outputs": [
        {
          "output_type": "stream",
          "text": [
            "0\n",
            "2\n",
            "4\n",
            "6\n",
            "8\n",
            "ROJO\n",
            "ROSA\n",
            "AZUL\n",
            "FUCSIA\n"
          ],
          "name": "stdout"
        }
      ]
    },
    {
      "cell_type": "markdown",
      "metadata": {
        "id": "cMRimgnq7_qx"
      },
      "source": [
        "# Generadores\n",
        "Sintaxis: \n",
        "[ valor for x in range() ]"
      ]
    },
    {
      "cell_type": "code",
      "metadata": {
        "id": "5Xb-Ypvg8cW2",
        "outputId": "59778e3b-82ae-48ab-9f26-eea180984656",
        "colab": {
          "base_uri": "https://localhost:8080/",
          "height": 34
        }
      },
      "source": [
        "lista = [ 0 for x in range(0, 10)]\n",
        "print(lista)"
      ],
      "execution_count": 3,
      "outputs": [
        {
          "output_type": "stream",
          "text": [
            "[0, 0, 0, 0, 0, 0, 0, 0, 0, 0]\n"
          ],
          "name": "stdout"
        }
      ]
    },
    {
      "cell_type": "code",
      "metadata": {
        "id": "RAmmiBuK9ua6",
        "outputId": "371216c8-01a2-4c62-c1da-ea43da4ee69f",
        "colab": {
          "base_uri": "https://localhost:8080/",
          "height": 34
        }
      },
      "source": [
        "# Generar matriz de 3 x 3\n",
        "matriz = [ [0, 0, 0] for x in range(3)]\n",
        "print(matriz)"
      ],
      "execution_count": 4,
      "outputs": [
        {
          "output_type": "stream",
          "text": [
            "[[0, 0, 0], [0, 0, 0], [0, 0, 0]]\n"
          ],
          "name": "stdout"
        }
      ]
    },
    {
      "cell_type": "code",
      "metadata": {
        "id": "pMfsVC2O96dh",
        "outputId": "b2a0c201-36fc-4214-9209-1890d0341189",
        "colab": {
          "base_uri": "https://localhost:8080/",
          "height": 34
        }
      },
      "source": [
        "matriz = [[0 for x in range(3)] for x in range(3)]\n",
        "print(matriz)"
      ],
      "execution_count": 6,
      "outputs": [
        {
          "output_type": "stream",
          "text": [
            "[[0, 0, 0], [0, 0, 0], [0, 0, 0]]\n"
          ],
          "name": "stdout"
        }
      ]
    },
    {
      "cell_type": "markdown",
      "metadata": {
        "id": "sobmM4vf_gaK"
      },
      "source": [
        "# P.O.O.\n",
        "- Clase\n",
        "- Creacion de objetos\n",
        "- Constructor\n",
        "- Encapsulamiento\n",
        "- Métodos\n",
        "- Atributos\n",
        "# - Herencia"
      ]
    },
    {
      "cell_type": "code",
      "metadata": {
        "id": "dtnq5PM0_r-Q",
        "outputId": "5bc87830-9b41-41dc-f1c2-e5e4fb356a35",
        "colab": {
          "base_uri": "https://localhost:8080/",
          "height": 35
        }
      },
      "source": [
        "class Computadora:\n",
        "  def __init__( self , m , p):        #constructor; tiene que llamarse así obligatoriamente\n",
        "    self.__marca = m\n",
        "    self.__procesador = p\n",
        "\n",
        "  def to_string( self ):              #Da el estado actual del objeto\n",
        "    return \"Marca: \" + self.__marca + \" Procesador: \" + self.__procesador\n",
        "\n",
        "mi_pc = Computadora('Toshiba', 'Core i7')\n",
        "mi_pc.to_string()"
      ],
      "execution_count": 7,
      "outputs": [
        {
          "output_type": "execute_result",
          "data": {
            "application/vnd.google.colaboratory.intrinsic+json": {
              "type": "string"
            },
            "text/plain": [
              "'Marca: Toshiba Procesador: Core i7'"
            ]
          },
          "metadata": {
            "tags": []
          },
          "execution_count": 7
        }
      ]
    }
  ]
}
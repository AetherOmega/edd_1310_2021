{
  "nbformat": 4,
  "nbformat_minor": 0,
  "metadata": {
    "colab": {
      "name": "8Octubre_1310.ipynb",
      "provenance": [],
      "collapsed_sections": [],
      "authorship_tag": "ABX9TyO0hcgbzG3KOHxvpDQdfLRZ",
      "include_colab_link": true
    },
    "kernelspec": {
      "name": "python3",
      "display_name": "Python 3"
    }
  },
  "cells": [
    {
      "cell_type": "markdown",
      "metadata": {
        "id": "view-in-github",
        "colab_type": "text"
      },
      "source": [
        "<a href=\"https://colab.research.google.com/github/AetherOmega/edd_1310_2021/blob/master/8Octubre_1310.ipynb\" target=\"_parent\"><img src=\"https://colab.research.google.com/assets/colab-badge.svg\" alt=\"Open In Colab\"/></a>"
      ]
    },
    {
      "cell_type": "code",
      "metadata": {
        "id": "kDfdEn9r1BYF",
        "outputId": "0255ee4e-9957-49e8-a044-dbb034fdb075",
        "colab": {
          "base_uri": "https://localhost:8080/",
          "height": 139
        }
      },
      "source": [
        "monitores =[[\"Samsung\",\"17.3 \\\"\",1024],[\"BenQ\",\"40\\\"\",2048]]\n",
        "procesadores = [[\"Intel\",\"i7\",3.4],[\"AMD\",\"razzer\",3.3],[\"Intel\",\"i3\",3.1]]\n",
        "memorias = [[\"Kingston\", \"8GB\",\"DDR4\"],[\"Kingston\", \"16GB\",\"DDR3\"],[\"ADATA\", \"32GB\",\"DDR4\"]]\n",
        "\n",
        "componentes = [monitores,procesadores,memorias]\n",
        "\n",
        "print(componentes[1])\n",
        "print(componentes[2][1][1])\n",
        "print(int(componentes[0][1][2])*2)\n",
        "print(componentes[1][1][1][1:4:1])\n",
        "\n",
        "#Adata\n",
        "print(componentes[2][2][0].lower())\n",
        "componentes[2].append([[\"Corsair\",\"36\",\"DDR4\"]])\n",
        "print(componentes[2])\n"
      ],
      "execution_count": 4,
      "outputs": [
        {
          "output_type": "stream",
          "text": [
            "[['Intel', 'i7', 3.4], ['AMD', 'razzer', 3.3], ['Intel', 'i3', 3.1]]\n",
            "16GB\n",
            "4096\n",
            "azz\n",
            "adata\n",
            "[['Kingston', '8GB', 'DDR4'], ['Kingston', '16GB', 'DDR3'], ['ADATA', '32GB', 'DDR4'], [['Corsair', '36', 'DDR4']]]\n"
          ],
          "name": "stdout"
        }
      ]
    },
    {
      "cell_type": "code",
      "metadata": {
        "id": "kXFy9sbwH5XS",
        "outputId": "0fe62f24-44c4-4b4d-b219-b702ff2c0de8",
        "colab": {
          "base_uri": "https://localhost:8080/",
          "height": 204
        }
      },
      "source": [
        "# Copiar listas\n",
        "# Extender listas \n",
        "\n",
        "frutas =[\"Manzanas\",\"Pera\"]\n",
        "otras_frutas =[\"Aguacate\",\"Sandia\"]\n",
        "# + Sobre listas\n",
        "frutas = frutas + otras_frutas\n",
        "print(frutas)\n",
        "\n",
        "# Funcion extend()\n",
        "frutas.extend(otras_frutas)\n",
        "print(frutas)\n",
        "frutas.append(otras_frutas)\n",
        "print(frutas)\n",
        "\n",
        "# Copiar listas\n",
        "colores = [\"Azul\",\"Rojo\",\"Verde\",\"Violeta\"]\n",
        "otros_colores = colores \n",
        "print(colores)\n",
        "print(otros_colores)\n",
        "otros_colores.append(\"Rosa\")\n",
        "print(colores)\n",
        "print(otros_colores)\n",
        "\n",
        "\n",
        "una_mas = colores.copy()\n",
        "print(una_mas)\n",
        "una_mas.append(\"Gris\")\n",
        "print(una_mas)\n",
        "print(colores)\n",
        "\n",
        "# Unpaking de listas\n",
        "\n",
        "alumno =[\"Jesus\",\"Perez\",\"Herrera\",22,\"ICO\",10.0]\n",
        " #nombre = alumno[0]\n",
        " #paterno = alumno[1]\n",
        " #etc(7 lineas)\n",
        "\n",
        "nombre,paterno,materno,edad,carrera,promedio =alumno\n",
        "print(f\"Alumno:{nombre}  Carrera:{carrera}  promedio={promedio}\")\n",
        "\n"
      ],
      "execution_count": 23,
      "outputs": [
        {
          "output_type": "stream",
          "text": [
            "['Manzanas', 'Pera', 'Aguacate', 'Sandia']\n",
            "['Manzanas', 'Pera', 'Aguacate', 'Sandia', 'Aguacate', 'Sandia']\n",
            "['Manzanas', 'Pera', 'Aguacate', 'Sandia', 'Aguacate', 'Sandia', ['Aguacate', 'Sandia']]\n",
            "['Azul', 'Rojo', 'Verde', 'Violeta']\n",
            "['Azul', 'Rojo', 'Verde', 'Violeta']\n",
            "['Azul', 'Rojo', 'Verde', 'Violeta', 'Rosa']\n",
            "['Azul', 'Rojo', 'Verde', 'Violeta', 'Rosa']\n",
            "['Azul', 'Rojo', 'Verde', 'Violeta', 'Rosa']\n",
            "['Azul', 'Rojo', 'Verde', 'Violeta', 'Rosa', 'Gris']\n",
            "['Azul', 'Rojo', 'Verde', 'Violeta', 'Rosa']\n",
            "Alumno:Jesus  Carrera:ICO  promedio=10.0\n"
          ],
          "name": "stdout"
        }
      ]
    },
    {
      "cell_type": "markdown",
      "metadata": {
        "id": "ziuFop7eR76m"
      },
      "source": [
        "# Tuplas\n",
        "- Se declaran con ( )\n",
        "- Selector con [ ]\n",
        "- No son mutables "
      ]
    },
    {
      "cell_type": "code",
      "metadata": {
        "id": "ZKhmjOAqSMVr",
        "outputId": "ad18b31a-7936-4f77-d93f-769d7245ade7",
        "colab": {
          "base_uri": "https://localhost:8080/",
          "height": 68
        }
      },
      "source": [
        "precios = ( 99.9 , 49.90 , 12.45 , 23.3 , 55.66 )\n",
        "print(precios[1])\n",
        "print(precios)\n",
        "print(precios[2:4])\n"
      ],
      "execution_count": 26,
      "outputs": [
        {
          "output_type": "stream",
          "text": [
            "49.9\n",
            "(99.9, 49.9, 12.45, 23.3, 55.66)\n",
            "(12.45, 23.3)\n"
          ],
          "name": "stdout"
        }
      ]
    },
    {
      "cell_type": "markdown",
      "metadata": {
        "id": "BlmGA4eoTjoM"
      },
      "source": [
        "# Diccionarios\n",
        "- Se declara { } \n",
        "- Si son mutables\n",
        "- Conjunto de pares llave: valor\n",
        "- Equivalenbte a los objetos JSON de JavaScript\n",
        "- Selector "
      ]
    },
    {
      "cell_type": "code",
      "metadata": {
        "id": "WOXb5RVsT82w",
        "outputId": "e321d232-0bb6-4b56-ac00-d249a34a0a0e",
        "colab": {
          "base_uri": "https://localhost:8080/",
          "height": 156
        }
      },
      "source": [
        "cliente = {}\n",
        "print(cliente)\n",
        "alumno = {   \"num_cta\"   : 30303046  }\n",
        "print(alumno)\n",
        "alumno = { \n",
        "          \"num_cta\" : 30303046 , \n",
        "          \"Carrera\" : \"ICO\" , \n",
        "          \"Promedio\" : 9.8 ,\n",
        "          \"Materias\" : [\"EDD\",\"CyP\",\"Calidad\",\"Emprendimiento\"] ,\n",
        "          \"Direccion\" : {\n",
        "                          \"Calle\" : \"Rancho seco\" , \n",
        "                          \"Numero\" : 23 , \n",
        "                          \"Delegacion\" : \"Neza\" , \n",
        "                          \"Estado\" : {\n",
        "                                       \"ID\" : 15 ,\n",
        "                                       \"Nombre\" : \"Estado de Mexico\" ,\n",
        "                                       \"Nombre_corto\" : \"Edo.Mex\"       \n",
        "         }\n",
        "       }\n",
        "      } \n",
        "print(alumno)\n",
        "print(alumno['Materias'])\n",
        "print(alumno['Promedio'])\n",
        "print(alumno['Direccion']['Estado']['Nombre_corto'])\n",
        "print(alumno['Carrera'])\n"
      ],
      "execution_count": 31,
      "outputs": [
        {
          "output_type": "stream",
          "text": [
            "{}\n",
            "{'num_cta': 30303046}\n",
            "{'num_cta': 30303046, 'Carrera': 'ICO', 'Promedio': 9.8, 'Materias': ['EDD', 'CyP', 'Calidad', 'Emprendimiento'], 'Direccion': {'Calle': 'Rancho seco', 'Numero': 23, 'Delegacion': 'Neza', 'Estado': {'ID': 15, 'Nombre': 'Estado de Mexico', 'Nombre_corto': 'Edo.Mex'}}}\n",
            "['EDD', 'CyP', 'Calidad', 'Emprendimiento']\n",
            "9.8\n",
            "Edo.Mex\n",
            "['EDD', 'CyP', 'Calidad', 'Emprendimiento']\n"
          ],
          "name": "stdout"
        }
      ]
    }
  ]
}
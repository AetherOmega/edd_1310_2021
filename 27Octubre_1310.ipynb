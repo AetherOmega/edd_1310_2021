{
  "nbformat": 4,
  "nbformat_minor": 0,
  "metadata": {
    "colab": {
      "name": "27Octubre_1310.ipynb",
      "provenance": [],
      "authorship_tag": "ABX9TyPtLZdTh9xlFRR2Ty3LYEvH",
      "include_colab_link": true
    },
    "kernelspec": {
      "name": "python3",
      "display_name": "Python 3"
    }
  },
  "cells": [
    {
      "cell_type": "markdown",
      "metadata": {
        "id": "view-in-github",
        "colab_type": "text"
      },
      "source": [
        "<a href=\"https://colab.research.google.com/github/AetherOmega/edd_1310_2021/blob/master/27Octubre_1310.ipynb\" target=\"_parent\"><img src=\"https://colab.research.google.com/assets/colab-badge.svg\" alt=\"Open In Colab\"/></a>"
      ]
    },
    {
      "cell_type": "code",
      "metadata": {
        "id": "PE5gW-86CUuy",
        "outputId": "9b37096c-4557-4089-a2f8-2d8eb317144b",
        "colab": {
          "base_uri": "https://localhost:8080/",
          "height": 51
        }
      },
      "source": [
        "class Computadora:\n",
        "    def __init__( self , m , p):\n",
        "        self.__marca = m\n",
        "        self.__procesador = p\n",
        "\n",
        "    def to_string( self ):\n",
        "        return \"MArca:\"+self.__marca+\" Procesador:\"+self.__procesador\n",
        "\n",
        "mi_pc = Computadora(\"Toshiba\",\"Intel i7\")\n",
        "print(mi_pc.to_string())\n",
        "mi_pc.__marca=\"HP \"\n",
        "print(mi_pc.to_string())\n"
      ],
      "execution_count": 3,
      "outputs": [
        {
          "output_type": "stream",
          "text": [
            "MArca:Toshiba Procesador:Intel i7\n",
            "MArca:Toshiba Procesador:Intel i7\n"
          ],
          "name": "stdout"
        }
      ]
    },
    {
      "cell_type": "code",
      "metadata": {
        "id": "G0Rya8zREyXu",
        "outputId": "80f780f7-09ab-4250-99e3-aa268d6d717d",
        "colab": {
          "base_uri": "https://localhost:8080/",
          "height": 68
        }
      },
      "source": [
        "class Computadora:\n",
        "    def __init__( self , m , p):\n",
        "        self.__marca = m\n",
        "        self.__procesador = p\n",
        "\n",
        "    def to_string( self ):\n",
        "        return \"MArca:\"+self.__marca+\" Procesador:\"+self.__procesador\n",
        "    \n",
        "    def set_marca( self , m ):\n",
        "        self.__marca = m\n",
        "\n",
        "    def get_marca( self ):\n",
        "        return self.__marca\n",
        "   \n",
        "    def set_procesador( self , p ):\n",
        "        self.__procesador = P\n",
        "    \n",
        "    def get_procesador( self ):\n",
        "        return self.__procesador\n",
        "\n",
        "mi_pc = Computadora(\"Toshiba\",\"Intel i7\")\n",
        "print(mi_pc.to_string())\n",
        "mi_pc.__marca=\"HP \"\n",
        "mi_pc.set_marca(\"HP co.\")\n",
        "print(mi_pc.to_string())\n",
        "print(mi_pc.get_procesador())"
      ],
      "execution_count": 5,
      "outputs": [
        {
          "output_type": "stream",
          "text": [
            "MArca:Toshiba Procesador:Intel i7\n",
            "MArca:HP co. Procesador:Intel i7\n",
            "Intel i7\n"
          ],
          "name": "stdout"
        }
      ]
    },
    {
      "cell_type": "markdown",
      "metadata": {
        "id": "kC_wDfU-ERMo"
      },
      "source": [
        "# Encapsulamiento python 3\n",
        "## Tradicional tipo Java\n",
        "   void setAtributo( val )\n",
        "\n",
        "   tipo getAtributo( )\n",
        "## Estilo python 3\n",
        "Utilizando decoradores\n",
        "\n",
        "\n",
        "1.   @Property\n",
        "2.   @atributo.setter\n",
        "\n"
      ]
    },
    {
      "cell_type": "code",
      "metadata": {
        "id": "wkh-3sIuH4pi",
        "outputId": "98b0e96f-5c56-4460-ae67-0dba932d6bfa",
        "colab": {
          "base_uri": "https://localhost:8080/",
          "height": 102
        }
      },
      "source": [
        "class Computadora:\n",
        "    def __init__(self,m,p):\n",
        "          self.marca = m #se manda lllamar el decorador @property\n",
        "          self.procesador = p #idem\n",
        "    @property #declara como atributo privado y funciona como get\n",
        "    def marca(self):\n",
        "        return self.__marca \n",
        "\n",
        "    @marca.setter\n",
        "    def marca(self,m):\n",
        "        print(\"En el setter de marca\")\n",
        "        self.__marca = m\n",
        "    @property\n",
        "    def procesador(self):\n",
        "        return self._procesador\n",
        "\n",
        "    @procesador.setter\n",
        "    def procesador(self,p):\n",
        "        print(\"En el metodo set de procesador\")\n",
        "        self._procesador = p\n",
        "\n",
        "    def to_string(self):\n",
        "        return \"Marca:\" + self.marca + \"Procesador:\" + self.procesador\n",
        "\n",
        "mi_pc2 = Computadora(\"Mac Book pro\", \"Intel Core i7\")\n",
        "print(mi_pc2.to_string())\n",
        "mi_pc2.marca = \"Dell \"\n",
        "print(mi_pc2.to_string())"
      ],
      "execution_count": 20,
      "outputs": [
        {
          "output_type": "stream",
          "text": [
            "En el setter de marca\n",
            "En el metodo set de procesador\n",
            "Marca:Mac Book proProcesador:Intel Core i7\n",
            "En el setter de marca\n",
            "Marca:Dell Procesador:Intel Core i7\n"
          ],
          "name": "stdout"
        }
      ]
    },
    {
      "cell_type": "code",
      "metadata": {
        "id": "BISk1HTOQqxf",
        "outputId": "48de1368-7428-4b95-c5ae-2f594cbd4e63",
        "colab": {
          "base_uri": "https://localhost:8080/",
          "height": 85
        }
      },
      "source": [
        "# Herencia , pasando la clase base a la declaracion\n",
        "class ServidorEmpresarial(Computadora):\n",
        "    def __init__(self):\n",
        "        print(\"Hola servidor\")\n",
        "\n",
        "server = ServidorEmpresarial()\n",
        "server.marca = \"Sin Micro Systems  \"\n",
        "server.procesador = \" intel i7\"\n",
        "print(server.to_string())"
      ],
      "execution_count": 26,
      "outputs": [
        {
          "output_type": "stream",
          "text": [
            "Hola servidor\n",
            "En el setter de marca\n",
            "En el metodo set de procesador\n",
            "Marca:Sin Micro Systems  Procesador: intel i7\n"
          ],
          "name": "stdout"
        }
      ]
    }
  ]
}
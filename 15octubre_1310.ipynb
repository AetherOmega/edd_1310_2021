{
  "nbformat": 4,
  "nbformat_minor": 0,
  "metadata": {
    "colab": {
      "name": "15octubre_1310.ipynb",
      "provenance": [],
      "toc_visible": true,
      "authorship_tag": "ABX9TyPWtyawt1rqH3pasxdNRlnm",
      "include_colab_link": true
    },
    "kernelspec": {
      "name": "python3",
      "display_name": "Python 3"
    }
  },
  "cells": [
    {
      "cell_type": "markdown",
      "metadata": {
        "id": "view-in-github",
        "colab_type": "text"
      },
      "source": [
        "<a href=\"https://colab.research.google.com/github/AetherOmega/edd_1310_2021/blob/master/15octubre_1310.ipynb\" target=\"_parent\"><img src=\"https://colab.research.google.com/assets/colab-badge.svg\" alt=\"Open In Colab\"/></a>"
      ]
    },
    {
      "cell_type": "code",
      "metadata": {
        "id": "JlQsqqHnBJhj"
      },
      "source": [
        ""
      ],
      "execution_count": null,
      "outputs": []
    },
    {
      "cell_type": "markdown",
      "metadata": {
        "id": "VcE3TBTiB2mw"
      },
      "source": [
        "# Modulos\n",
        "Son recursos reutilizables que contienen varias funciones que pueden ser iimportadas a tu codigo "
      ]
    },
    {
      "cell_type": "code",
      "metadata": {
        "id": "ssd8TstqCcQN",
        "outputId": "5a26930e-add8-4b8c-f174-f63696c12adb",
        "colab": {
          "base_uri": "https://localhost:8080/",
          "height": 51
        }
      },
      "source": [
        "''' \n",
        "import mi_modulo\n",
        "\n",
        "x = mi_modulo.sumar( 4 , 7 )\n",
        "\n",
        "print( x )\n",
        "\n",
        "print(mi_modulo.multiplicar(3,5))"
      ],
      "execution_count": 9,
      "outputs": [
        {
          "output_type": "stream",
          "text": [
            "11\n",
            "15\n"
          ],
          "name": "stdout"
        }
      ]
    },
    {
      "cell_type": "code",
      "metadata": {
        "id": "JmvSYxYzKV6S",
        "outputId": "cc7ce3a3-afc0-49ef-839d-d3919322bd2a",
        "colab": {
          "base_uri": "https://localhost:8080/",
          "height": 34
        }
      },
      "source": [
        "from mi_modulo import sumar\n",
        "print(sumar(4,7))"
      ],
      "execution_count": 10,
      "outputs": [
        {
          "output_type": "stream",
          "text": [
            "11\n"
          ],
          "name": "stdout"
        }
      ]
    },
    {
      "cell_type": "code",
      "metadata": {
        "id": "pHsEFJZrLVgG",
        "outputId": "1fc2f5e7-4909-47a1-abf8-c4f79c5fd3fb",
        "colab": {
          "base_uri": "https://localhost:8080/",
          "height": 34
        }
      },
      "source": [
        "import mi_modulo as patito\n",
        "\n",
        "print(patito.sumar(4,6))"
      ],
      "execution_count": 12,
      "outputs": [
        {
          "output_type": "stream",
          "text": [
            "10\n"
          ],
          "name": "stdout"
        }
      ]
    },
    {
      "cell_type": "code",
      "metadata": {
        "id": "RJwTp1OYMJ81",
        "outputId": "b13d994d-a2f8-4439-9664-9542e744f263",
        "colab": {
          "base_uri": "https://localhost:8080/",
          "height": 51
        }
      },
      "source": [
        "from mi_modulo import sumar, dividir\n",
        "\n",
        "print(sumar(4,7))\n",
        "print(dividir(14,7))"
      ],
      "execution_count": 16,
      "outputs": [
        {
          "output_type": "stream",
          "text": [
            "11\n",
            "2.0\n"
          ],
          "name": "stdout"
        }
      ]
    },
    {
      "cell_type": "code",
      "metadata": {
        "id": "CmXWrlIIPRFz",
        "outputId": "e26872e0-9721-4c03-fcc8-a12b30ae396f",
        "colab": {
          "base_uri": "https://localhost:8080/",
          "height": 275
        }
      },
      "source": [
        "pip install joke-generator"
      ],
      "execution_count": 17,
      "outputs": [
        {
          "output_type": "stream",
          "text": [
            "Collecting joke-generator\n",
            "  Downloading https://files.pythonhosted.org/packages/95/e5/de76c4aff315ad38ab69cd25ea942250a51008e910905c1f8ef80265b15b/joke_generator-1.0.1.tar.gz\n",
            "Requirement already satisfied: requests>=2.22.0 in /usr/local/lib/python3.6/dist-packages (from joke-generator) (2.23.0)\n",
            "Requirement already satisfied: certifi>=2017.4.17 in /usr/local/lib/python3.6/dist-packages (from requests>=2.22.0->joke-generator) (2020.6.20)\n",
            "Requirement already satisfied: chardet<4,>=3.0.2 in /usr/local/lib/python3.6/dist-packages (from requests>=2.22.0->joke-generator) (3.0.4)\n",
            "Requirement already satisfied: idna<3,>=2.5 in /usr/local/lib/python3.6/dist-packages (from requests>=2.22.0->joke-generator) (2.10)\n",
            "Requirement already satisfied: urllib3!=1.25.0,!=1.25.1,<1.26,>=1.21.1 in /usr/local/lib/python3.6/dist-packages (from requests>=2.22.0->joke-generator) (1.24.3)\n",
            "Building wheels for collected packages: joke-generator\n",
            "  Building wheel for joke-generator (setup.py) ... \u001b[?25l\u001b[?25hdone\n",
            "  Created wheel for joke-generator: filename=joke_generator-1.0.1-cp36-none-any.whl size=2075 sha256=3fa76f75f7d818361862707c1057c7c20d7ff05caa4a6df84a3ec64db94417b6\n",
            "  Stored in directory: /root/.cache/pip/wheels/b1/e1/1c/42a5a669d05834c31aab52f6f87b1c7d50718f7669d51bd347\n",
            "Successfully built joke-generator\n",
            "Installing collected packages: joke-generator\n",
            "Successfully installed joke-generator-1.0.1\n"
          ],
          "name": "stdout"
        }
      ]
    },
    {
      "cell_type": "code",
      "metadata": {
        "id": "FecVTr9pPpzW",
        "outputId": "df36194e-fdf0-4819-eb8a-259d758d7a13",
        "colab": {
          "base_uri": "https://localhost:8080/",
          "height": 35
        }
      },
      "source": [
        "from joke_generator import generate \n",
        "\n",
        "generate()"
      ],
      "execution_count": 20,
      "outputs": [
        {
          "output_type": "execute_result",
          "data": {
            "application/vnd.google.colaboratory.intrinsic+json": {
              "type": "string"
            },
            "text/plain": [
              "'\"Hey, dad, did you get a haircut?\" \"No, I got them all cut.\"'"
            ]
          },
          "metadata": {
            "tags": []
          },
          "execution_count": 20
        }
      ]
    },
    {
      "cell_type": "markdown",
      "metadata": {
        "id": "azEOpewvSQn6"
      },
      "source": [
        "# Archivos\n",
        "\n",
        "- open( str , str)\n",
        "   1. Nombre o ruta del archivo\n",
        "   1. Dos caracteres\n",
        "    - modo de apertura del archivo (r,a,w)\n",
        "    - Formato del archivo (t o b)"
      ]
    },
    {
      "cell_type": "code",
      "metadata": {
        "id": "a2Bhu65hS4YH"
      },
      "source": [
        "archivo = open(\"saludo.txt\",\"wt\")\n",
        "archivo.write(\"Hola mundo \\n Ola ke aze\")\n",
        "archivo.close()"
      ],
      "execution_count": 22,
      "outputs": []
    },
    {
      "cell_type": "code",
      "metadata": {
        "id": "O69tkLy3UXb2",
        "outputId": "10973257-e9e3-4cae-ff1f-50888232adf5",
        "colab": {
          "base_uri": "https://localhost:8080/",
          "height": 136
        }
      },
      "source": [
        "otro = open('./sample_data/anscombe.json',\"rt\")\n",
        "datos = otro.read()\n",
        "#print(datos)\n",
        "otro.close()\n",
        "\n",
        "arch = open('frutas.txt','rt')\n",
        "data = 'ppp'\n",
        "while (data != ''):\n",
        "    data = arch.readline()\n",
        "    print(data)\n",
        "arch.close()\n",
        "\n",
        "arch = open('frutas.txt','rt')\n",
        "list_frutas = arch.readlines()\n",
        "print(list_frutas)\n",
        "arch.close()\n",
        "\n",
        "\n"
      ],
      "execution_count": 35,
      "outputs": [
        {
          "output_type": "stream",
          "text": [
            "manzana,pera,kiwi,\n",
            "\n",
            "limon,naranja,\n",
            "\n",
            "papaya,sandia\n",
            "\n",
            "['manzana,pera,kiwi,\\n', 'limon,naranja,\\n', 'papaya,sandia']\n"
          ],
          "name": "stdout"
        }
      ]
    },
    {
      "cell_type": "code",
      "metadata": {
        "id": "stBK4OqUWln_"
      },
      "source": [
        ""
      ],
      "execution_count": null,
      "outputs": []
    },
    {
      "cell_type": "code",
      "metadata": {
        "id": "kekM4mr6Ff1H"
      },
      "source": [
        "from google.colab import drive\n",
        "drive.mount('/content/drive')"
      ],
      "execution_count": null,
      "outputs": []
    }
  ]
}
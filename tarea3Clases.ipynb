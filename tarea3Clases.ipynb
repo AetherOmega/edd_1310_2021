{
  "nbformat": 4,
  "nbformat_minor": 0,
  "metadata": {
    "colab": {
      "name": "tarea3Clases.ipynb",
      "provenance": [],
      "authorship_tag": "ABX9TyNysfjBuao7vxMGJNZiFerD",
      "include_colab_link": true
    },
    "kernelspec": {
      "name": "python3",
      "display_name": "Python 3"
    }
  },
  "cells": [
    {
      "cell_type": "markdown",
      "metadata": {
        "id": "view-in-github",
        "colab_type": "text"
      },
      "source": [
        "<a href=\"https://colab.research.google.com/github/AetherOmega/edd_1310_2021/blob/master/tarea3Clases.ipynb\" target=\"_parent\"><img src=\"https://colab.research.google.com/assets/colab-badge.svg\" alt=\"Open In Colab\"/></a>"
      ]
    },
    {
      "cell_type": "code",
      "metadata": {
        "id": "e7UhT17FaaBB"
      },
      "source": [
        ""
      ],
      "execution_count": null,
      "outputs": []
    },
    {
      "cell_type": "markdown",
      "metadata": {
        "id": "CATz5zWI2vSy"
      },
      "source": [
        "# #TAREA 3 CLASES\n",
        "VEGA GARCIA EDUARDO OLIMPO\n",
        "\n",
        "1. Persona   \n",
        "    - atributos : Nombre, Edad y Estatura\n",
        "    - Métodos: Dormir y Comer\n",
        "\n",
        "2. Celular\n",
        "    - atributos: Marca, Modelo y espacio de Memoria\n",
        "    - Métodos: Llamar, poner alarma\n"
      ]
    },
    {
      "cell_type": "code",
      "metadata": {
        "id": "myuCyGGh2oFL",
        "outputId": "eb79da22-1585-486e-8e54-19421678333a",
        "colab": {
          "base_uri": "https://localhost:8080/",
          "height": 34
        }
      },
      "source": [
        "class Persona:\n",
        "  def __init__(self , nom , eda, est):\n",
        "    self.__nombre = nom \n",
        "    self.__edad = eda\n",
        "    self.__estatura = est\n",
        "  def to_string(self): \n",
        "    return \"Nombre: \"+self.__nombre+\"Edad: \"+self.__edad+\"Estatura: \"+self.__estatura\n",
        "\n",
        "la_persona = Persona(\"Eduardo, \",\"19 años, \",\"1.75m\")\n",
        "print(la_persona.to_string())"
      ],
      "execution_count": 1,
      "outputs": [
        {
          "output_type": "stream",
          "text": [
            "Nombre: Eduardo, Edad: 19 años, Estatura: 1.75m\n"
          ],
          "name": "stdout"
        }
      ]
    },
    {
      "cell_type": "code",
      "metadata": {
        "id": "s8lDpj_R4HY3",
        "outputId": "9606513c-8596-4adc-d9aa-c470f565cabf",
        "colab": {
          "base_uri": "https://localhost:8080/",
          "height": 34
        }
      },
      "source": [
        "class Celular:\n",
        "  def __init__(self , mar , mod, mem):\n",
        "    self.__marca = mar \n",
        "    self.__modelo = mod\n",
        "    self.__memora = mem\n",
        "  def to_string(self): \n",
        "    return \"Marca: \"+self.__marca+\"Modelo: \"+self.__modelo+\"Memoria: \"+self.__memora\n",
        "\n",
        "el_cel = Celular(\"Motorola\",\"Moto G6\",\"4GB\")\n",
        "print(el_cel.to_string())"
      ],
      "execution_count": 3,
      "outputs": [
        {
          "output_type": "stream",
          "text": [
            "Marca: MotorolaModelo: Moto G6Memoria: 4GB\n"
          ],
          "name": "stdout"
        }
      ]
    }
  ]
}
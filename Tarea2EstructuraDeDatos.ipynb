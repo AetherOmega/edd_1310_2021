{
  "nbformat": 4,
  "nbformat_minor": 0,
  "metadata": {
    "colab": {
      "name": "Tarea2EstructuraDeDatos",
      "provenance": [],
      "authorship_tag": "ABX9TyMQaVtG7nRnkaWgJ2x9RGZ3",
      "include_colab_link": true
    },
    "kernelspec": {
      "name": "python3",
      "display_name": "Python 3"
    }
  },
  "cells": [
    {
      "cell_type": "markdown",
      "metadata": {
        "id": "view-in-github",
        "colab_type": "text"
      },
      "source": [
        "<a href=\"https://colab.research.google.com/github/AetherOmega/edd_1310_2021/blob/master/Tarea2EstructuraDeDatos.ipynb\" target=\"_parent\"><img src=\"https://colab.research.google.com/assets/colab-badge.svg\" alt=\"Open In Colab\"/></a>"
      ]
    },
    {
      "cell_type": "code",
      "metadata": {
        "id": "V-GabVH0NF0M",
        "outputId": "be1e630e-a9a8-492b-9259-4cf6d509416e",
        "colab": {
          "base_uri": "https://localhost:8080/",
          "height": 204
        }
      },
      "source": [
        "def sumarRenglon(renglon):\n",
        "  suma = 0\n",
        "  for w in renglon:\n",
        "    num = w.strip()\n",
        "    suma += int(num)\n",
        "  return suma\n",
        "\n",
        "archivo = open('/content/sample_data/Datos.txt','rt')\n",
        "\n",
        "z = 0\n",
        "total = 0\n",
        "\n",
        "while z< 27 :\n",
        "  y = archivo.readline().split(',')\n",
        "  z +=1\n",
        "\n",
        "  if y[0].strip() == '':\n",
        "    continue\n",
        "\n",
        "  resultado = sumarRenglon(y)\n",
        "  total += resultado\n",
        "  \n",
        "  print(\"ESTA ES LA SUMA DEL RENGLON: \",resultado)\n",
        "\n",
        "\n",
        "print(\"ESTA ES LA SUMA DE TODOS LOS NUMEROS DEL ARCHIVO: \",total)"
      ],
      "execution_count": 7,
      "outputs": [
        {
          "output_type": "stream",
          "text": [
            "ESTA ES LA SUMA DEL RENGLON:  406\n",
            "ESTA ES LA SUMA DEL RENGLON:  367\n",
            "ESTA ES LA SUMA DEL RENGLON:  814\n",
            "ESTA ES LA SUMA DEL RENGLON:  391\n",
            "ESTA ES LA SUMA DEL RENGLON:  786\n",
            "ESTA ES LA SUMA DEL RENGLON:  513\n",
            "ESTA ES LA SUMA DEL RENGLON:  745\n",
            "ESTA ES LA SUMA DEL RENGLON:  585\n",
            "ESTA ES LA SUMA DEL RENGLON:  154\n",
            "ESTA ES LA SUMA DEL RENGLON:  220\n",
            "ESTA ES LA SUMA DE TODOS LOS NUMEROS DEL ARCHIVO:  4981\n"
          ],
          "name": "stdout"
        }
      ]
    }
  ]
}
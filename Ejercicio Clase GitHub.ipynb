{
  "nbformat": 4,
  "nbformat_minor": 0,
  "metadata": {
    "colab": {
      "name": "Untitled0.ipynb",
      "provenance": [],
      "authorship_tag": "ABX9TyOibbELxixpf4/HKKHt0Orx",
      "include_colab_link": true
    },
    "kernelspec": {
      "name": "python3",
      "display_name": "Python 3"
    }
  },
  "cells": [
    {
      "cell_type": "markdown",
      "metadata": {
        "id": "view-in-github",
        "colab_type": "text"
      },
      "source": [
        "<a href=\"https://colab.research.google.com/github/AetherOmega/edd_1310_2021/blob/master/Ejercicio%20Clase%20GitHub.ipynb\" target=\"_parent\"><img src=\"https://colab.research.google.com/assets/colab-badge.svg\" alt=\"Open In Colab\"/></a>"
      ]
    },
    {
      "cell_type": "code",
      "metadata": {
        "id": "2TPC405_ssBR"
      },
      "source": [
        "edad = 10\n",
        "colores = ['rojo', 'azul', 'verde', 'morado', 'violeta']\n",
        "nombre = 'Alberto'"
      ],
      "execution_count": null,
      "outputs": []
    },
    {
      "cell_type": "code",
      "metadata": {
        "id": "V-nYDN17vKql",
        "outputId": "011d5e09-f20b-41cb-8d53-95e3745e4dcc",
        "colab": {
          "base_uri": "https://localhost:8080/",
          "height": 51
        }
      },
      "source": [
        "print(edad)\n",
        "print(colores)"
      ],
      "execution_count": 6,
      "outputs": [
        {
          "output_type": "stream",
          "text": [
            "10\n",
            "['rojo', 'azul', 'verde', 'morado', 'violeta']\n"
          ],
          "name": "stdout"
        }
      ]
    },
    {
      "cell_type": "markdown",
      "metadata": {
        "id": "v2EJ6ak8yLdJ"
      },
      "source": [
        "# For en Python 3\n",
        "Tiene 2 variantes\n",
        "1. in range(`inicio`, `tope`, `incremento`)\n",
        "2. in `iterador`"
      ]
    },
    {
      "cell_type": "code",
      "metadata": {
        "id": "COw4Ml6QwSp3",
        "outputId": "ffccb701-8997-4692-d4d1-b67e160589d0",
        "colab": {
          "base_uri": "https://localhost:8080/",
          "height": 102
        }
      },
      "source": [
        "for color in colores:\n",
        "  print(color)"
      ],
      "execution_count": 7,
      "outputs": [
        {
          "output_type": "stream",
          "text": [
            "rojo\n",
            "azul\n",
            "verde\n",
            "morado\n",
            "violeta\n"
          ],
          "name": "stdout"
        }
      ]
    },
    {
      "cell_type": "code",
      "metadata": {
        "id": "I-oiNUJ00iaT",
        "outputId": "eb648624-ca96-4bfd-c0cb-cfa0ec68b7fa",
        "colab": {
          "base_uri": "https://localhost:8080/",
          "height": 136
        }
      },
      "source": [
        "for letra in nombre:\n",
        "  print(letra)"
      ],
      "execution_count": 8,
      "outputs": [
        {
          "output_type": "stream",
          "text": [
            "A\n",
            "l\n",
            "b\n",
            "e\n",
            "r\n",
            "t\n",
            "o\n"
          ],
          "name": "stdout"
        }
      ]
    },
    {
      "cell_type": "markdown",
      "metadata": {
        "id": "40izkn3i1kYc"
      },
      "source": [
        "# ¿Que es Markdown?\n",
        "Es un lenguaje de marcado para documentar código.\n",
        "\n",
        "El objetivo es simplificar la escritura del lenguaje HTML\n",
        "\n",
        "Para más información, consultar:[Github Markdown](https://github.com/adam-p/markdown-here/wiki/Markdown-Cheatsheet)\n",
        "\n",
        "![Imagen](https://upload.wikimedia.org/wikipedia/commons/thumb/5/51/Aragon_Jonhy_corel.jpg/240px-Aragon_Jonhy_corel.jpg)"
      ]
    }
  ]
}